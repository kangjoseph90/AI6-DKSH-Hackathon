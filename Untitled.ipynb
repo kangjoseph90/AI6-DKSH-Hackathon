{
 "cells": [
  {
   "cell_type": "code",
   "execution_count": 2,
   "source": [
    "import torch\r\n",
    "import numpy as np\r\n",
    "import os"
   ],
   "outputs": [],
   "metadata": {}
  },
  {
   "cell_type": "code",
   "execution_count": 16,
   "source": [
    "tensor=torch.FloatTensor(3,3)\r\n",
    "tensor=torch.unsqueeze(tensor,0)\r\n",
    "tensor=torch.unsqueeze(tensor,0)\r\n",
    "tensor"
   ],
   "outputs": [
    {
     "output_type": "execute_result",
     "data": {
      "text/plain": [
       "tensor([[[[0., 0., 0.],\n",
       "          [0., 0., 0.],\n",
       "          [0., 0., 0.]]]])"
      ]
     },
     "metadata": {},
     "execution_count": 16
    }
   ],
   "metadata": {}
  },
  {
   "cell_type": "code",
   "execution_count": 22,
   "source": [
    "layer=torch.nn.Conv2d(1,2,2)\r\n",
    "out=layer(tensor)\r\n",
    "out\r\n",
    "#torch.FloatTensor(list(out.ravel())+[1,2,3])"
   ],
   "outputs": [
    {
     "output_type": "execute_result",
     "data": {
      "text/plain": [
       "tensor([[[[0.3803, 0.3803],\n",
       "          [0.3803, 0.3803]],\n",
       "\n",
       "         [[0.3590, 0.3590],\n",
       "          [0.3590, 0.3590]]]], grad_fn=<ThnnConv2DBackward>)"
      ]
     },
     "metadata": {},
     "execution_count": 22
    }
   ],
   "metadata": {}
  }
 ],
 "metadata": {
  "kernelspec": {
   "name": "python3",
   "display_name": "Python 3.8.5 64-bit ('base': conda)"
  },
  "language_info": {
   "codemirror_mode": {
    "name": "ipython",
    "version": 3
   },
   "file_extension": ".py",
   "mimetype": "text/x-python",
   "name": "python",
   "nbconvert_exporter": "python",
   "pygments_lexer": "ipython3",
   "version": "3.8.5"
  },
  "interpreter": {
   "hash": "068859eea8b8c43d0a46d34a95ca77f5d250a3ad41eceb589377a17a96215935"
  }
 },
 "nbformat": 4,
 "nbformat_minor": 5
}